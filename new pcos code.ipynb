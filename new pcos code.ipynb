{
 "cells": [
  {
   "cell_type": "code",
   "execution_count": 213,
   "id": "1ed22952",
   "metadata": {},
   "outputs": [
    {
     "data": {
      "text/plain": [
       "'0.11.1'"
      ]
     },
     "execution_count": 213,
     "metadata": {},
     "output_type": "execute_result"
    }
   ],
   "source": [
    "import numpy as np\n",
    "import matplotlib.pyplot as plt\n",
    "import pandas as pd\n",
    "from sklearn.ensemble import RandomForestRegressor,RandomForestClassifier\n",
    "%matplotlib inline\n",
    "import seaborn as sns\n",
    "\n",
    "sns.__version__\n",
    "\n"
   ]
  },
  {
   "cell_type": "code",
   "execution_count": 214,
   "id": "226924b5",
   "metadata": {},
   "outputs": [],
   "source": [
    "pcos= pd.read_csv('PCOS-Responsesthesis.csv')"
   ]
  },
  {
   "cell_type": "code",
   "execution_count": 215,
   "id": "2a1217ba",
   "metadata": {},
   "outputs": [
    {
     "data": {
      "text/html": [
       "<div>\n",
       "<style scoped>\n",
       "    .dataframe tbody tr th:only-of-type {\n",
       "        vertical-align: middle;\n",
       "    }\n",
       "\n",
       "    .dataframe tbody tr th {\n",
       "        vertical-align: top;\n",
       "    }\n",
       "\n",
       "    .dataframe thead th {\n",
       "        text-align: right;\n",
       "    }\n",
       "</style>\n",
       "<table border=\"1\" class=\"dataframe\">\n",
       "  <thead>\n",
       "    <tr style=\"text-align: right;\">\n",
       "      <th></th>\n",
       "      <th>Patient File No.</th>\n",
       "      <th>Age (yrs)</th>\n",
       "      <th>height(cm)</th>\n",
       "      <th>weight (kgs)</th>\n",
       "      <th>BMI</th>\n",
       "      <th>Diabetes(Y/N)</th>\n",
       "      <th>HighBP(Y/N)</th>\n",
       "      <th>Weight gain(Y/N)</th>\n",
       "      <th>Cycle(R/I)</th>\n",
       "      <th>Cycle Durations (days)</th>\n",
       "      <th>...</th>\n",
       "      <th>Pimples(Y/N)</th>\n",
       "      <th>Hair loss(Y/N)</th>\n",
       "      <th>Skin darkening (Y/N)</th>\n",
       "      <th>Fast food (Y/N)</th>\n",
       "      <th>Reg.Exercise(Y/N)</th>\n",
       "      <th>Marraige Status (Y/N)</th>\n",
       "      <th>Pregnant(Y/N)</th>\n",
       "      <th>Anxieties(Y/N)</th>\n",
       "      <th>PCOS(Y/N)</th>\n",
       "      <th>under treatment(Y/N)</th>\n",
       "    </tr>\n",
       "  </thead>\n",
       "  <tbody>\n",
       "    <tr>\n",
       "      <th>0</th>\n",
       "      <td>1</td>\n",
       "      <td>24</td>\n",
       "      <td>154.94</td>\n",
       "      <td>63</td>\n",
       "      <td>26.2</td>\n",
       "      <td>0</td>\n",
       "      <td>1</td>\n",
       "      <td>1</td>\n",
       "      <td>1</td>\n",
       "      <td>3</td>\n",
       "      <td>...</td>\n",
       "      <td>1</td>\n",
       "      <td>1</td>\n",
       "      <td>1</td>\n",
       "      <td>1</td>\n",
       "      <td>1</td>\n",
       "      <td>0</td>\n",
       "      <td>0</td>\n",
       "      <td>1</td>\n",
       "      <td>1</td>\n",
       "      <td>0</td>\n",
       "    </tr>\n",
       "    <tr>\n",
       "      <th>1</th>\n",
       "      <td>2</td>\n",
       "      <td>23</td>\n",
       "      <td>157.48</td>\n",
       "      <td>59</td>\n",
       "      <td>23.8</td>\n",
       "      <td>0</td>\n",
       "      <td>0</td>\n",
       "      <td>0</td>\n",
       "      <td>1</td>\n",
       "      <td>3</td>\n",
       "      <td>...</td>\n",
       "      <td>0</td>\n",
       "      <td>1</td>\n",
       "      <td>0</td>\n",
       "      <td>1</td>\n",
       "      <td>1</td>\n",
       "      <td>0</td>\n",
       "      <td>0</td>\n",
       "      <td>0</td>\n",
       "      <td>0</td>\n",
       "      <td>0</td>\n",
       "    </tr>\n",
       "    <tr>\n",
       "      <th>2</th>\n",
       "      <td>3</td>\n",
       "      <td>24</td>\n",
       "      <td>160.02</td>\n",
       "      <td>59</td>\n",
       "      <td>23.0</td>\n",
       "      <td>1</td>\n",
       "      <td>0</td>\n",
       "      <td>0</td>\n",
       "      <td>1</td>\n",
       "      <td>3</td>\n",
       "      <td>...</td>\n",
       "      <td>1</td>\n",
       "      <td>1</td>\n",
       "      <td>0</td>\n",
       "      <td>1</td>\n",
       "      <td>1</td>\n",
       "      <td>0</td>\n",
       "      <td>0</td>\n",
       "      <td>1</td>\n",
       "      <td>0</td>\n",
       "      <td>0</td>\n",
       "    </tr>\n",
       "    <tr>\n",
       "      <th>3</th>\n",
       "      <td>4</td>\n",
       "      <td>23</td>\n",
       "      <td>162.56</td>\n",
       "      <td>44</td>\n",
       "      <td>16.7</td>\n",
       "      <td>0</td>\n",
       "      <td>0</td>\n",
       "      <td>0</td>\n",
       "      <td>0</td>\n",
       "      <td>4</td>\n",
       "      <td>...</td>\n",
       "      <td>1</td>\n",
       "      <td>1</td>\n",
       "      <td>0</td>\n",
       "      <td>1</td>\n",
       "      <td>1</td>\n",
       "      <td>0</td>\n",
       "      <td>0</td>\n",
       "      <td>1</td>\n",
       "      <td>0</td>\n",
       "      <td>0</td>\n",
       "    </tr>\n",
       "    <tr>\n",
       "      <th>4</th>\n",
       "      <td>5</td>\n",
       "      <td>22</td>\n",
       "      <td>165.10</td>\n",
       "      <td>80</td>\n",
       "      <td>29.3</td>\n",
       "      <td>1</td>\n",
       "      <td>0</td>\n",
       "      <td>1</td>\n",
       "      <td>1</td>\n",
       "      <td>3</td>\n",
       "      <td>...</td>\n",
       "      <td>0</td>\n",
       "      <td>1</td>\n",
       "      <td>1</td>\n",
       "      <td>1</td>\n",
       "      <td>0</td>\n",
       "      <td>0</td>\n",
       "      <td>0</td>\n",
       "      <td>0</td>\n",
       "      <td>1</td>\n",
       "      <td>0</td>\n",
       "    </tr>\n",
       "    <tr>\n",
       "      <th>...</th>\n",
       "      <td>...</td>\n",
       "      <td>...</td>\n",
       "      <td>...</td>\n",
       "      <td>...</td>\n",
       "      <td>...</td>\n",
       "      <td>...</td>\n",
       "      <td>...</td>\n",
       "      <td>...</td>\n",
       "      <td>...</td>\n",
       "      <td>...</td>\n",
       "      <td>...</td>\n",
       "      <td>...</td>\n",
       "      <td>...</td>\n",
       "      <td>...</td>\n",
       "      <td>...</td>\n",
       "      <td>...</td>\n",
       "      <td>...</td>\n",
       "      <td>...</td>\n",
       "      <td>...</td>\n",
       "      <td>...</td>\n",
       "      <td>...</td>\n",
       "    </tr>\n",
       "    <tr>\n",
       "      <th>275</th>\n",
       "      <td>276</td>\n",
       "      <td>23</td>\n",
       "      <td>162.56</td>\n",
       "      <td>67</td>\n",
       "      <td>25.4</td>\n",
       "      <td>0</td>\n",
       "      <td>0</td>\n",
       "      <td>1</td>\n",
       "      <td>1</td>\n",
       "      <td>5</td>\n",
       "      <td>...</td>\n",
       "      <td>1</td>\n",
       "      <td>1</td>\n",
       "      <td>0</td>\n",
       "      <td>1</td>\n",
       "      <td>1</td>\n",
       "      <td>0</td>\n",
       "      <td>0</td>\n",
       "      <td>1</td>\n",
       "      <td>1</td>\n",
       "      <td>1</td>\n",
       "    </tr>\n",
       "    <tr>\n",
       "      <th>276</th>\n",
       "      <td>277</td>\n",
       "      <td>34</td>\n",
       "      <td>160.02</td>\n",
       "      <td>59</td>\n",
       "      <td>23.0</td>\n",
       "      <td>0</td>\n",
       "      <td>0</td>\n",
       "      <td>0</td>\n",
       "      <td>0</td>\n",
       "      <td>2</td>\n",
       "      <td>...</td>\n",
       "      <td>1</td>\n",
       "      <td>1</td>\n",
       "      <td>1</td>\n",
       "      <td>0</td>\n",
       "      <td>1</td>\n",
       "      <td>1</td>\n",
       "      <td>1</td>\n",
       "      <td>0</td>\n",
       "      <td>0</td>\n",
       "      <td>1</td>\n",
       "    </tr>\n",
       "    <tr>\n",
       "      <th>277</th>\n",
       "      <td>278</td>\n",
       "      <td>25</td>\n",
       "      <td>170.18</td>\n",
       "      <td>62</td>\n",
       "      <td>21.4</td>\n",
       "      <td>0</td>\n",
       "      <td>0</td>\n",
       "      <td>1</td>\n",
       "      <td>0</td>\n",
       "      <td>2</td>\n",
       "      <td>...</td>\n",
       "      <td>1</td>\n",
       "      <td>1</td>\n",
       "      <td>1</td>\n",
       "      <td>0</td>\n",
       "      <td>0</td>\n",
       "      <td>1</td>\n",
       "      <td>1</td>\n",
       "      <td>1</td>\n",
       "      <td>0</td>\n",
       "      <td>0</td>\n",
       "    </tr>\n",
       "    <tr>\n",
       "      <th>278</th>\n",
       "      <td>279</td>\n",
       "      <td>21</td>\n",
       "      <td>152.40</td>\n",
       "      <td>56</td>\n",
       "      <td>24.1</td>\n",
       "      <td>0</td>\n",
       "      <td>0</td>\n",
       "      <td>0</td>\n",
       "      <td>1</td>\n",
       "      <td>4</td>\n",
       "      <td>...</td>\n",
       "      <td>1</td>\n",
       "      <td>1</td>\n",
       "      <td>0</td>\n",
       "      <td>1</td>\n",
       "      <td>1</td>\n",
       "      <td>0</td>\n",
       "      <td>0</td>\n",
       "      <td>0</td>\n",
       "      <td>0</td>\n",
       "      <td>0</td>\n",
       "    </tr>\n",
       "    <tr>\n",
       "      <th>279</th>\n",
       "      <td>280</td>\n",
       "      <td>26</td>\n",
       "      <td>160.02</td>\n",
       "      <td>45</td>\n",
       "      <td>17.6</td>\n",
       "      <td>0</td>\n",
       "      <td>0</td>\n",
       "      <td>1</td>\n",
       "      <td>1</td>\n",
       "      <td>3</td>\n",
       "      <td>...</td>\n",
       "      <td>1</td>\n",
       "      <td>0</td>\n",
       "      <td>0</td>\n",
       "      <td>1</td>\n",
       "      <td>1</td>\n",
       "      <td>1</td>\n",
       "      <td>0</td>\n",
       "      <td>0</td>\n",
       "      <td>0</td>\n",
       "      <td>0</td>\n",
       "    </tr>\n",
       "  </tbody>\n",
       "</table>\n",
       "<p>280 rows × 21 columns</p>\n",
       "</div>"
      ],
      "text/plain": [
       "     Patient File No.  Age (yrs)  height(cm)   weight (kgs)   BMI  \\\n",
       "0                   1         24       154.94            63  26.2   \n",
       "1                   2         23       157.48            59  23.8   \n",
       "2                   3         24       160.02            59  23.0   \n",
       "3                   4         23       162.56            44  16.7   \n",
       "4                   5         22       165.10            80  29.3   \n",
       "..                ...        ...          ...           ...   ...   \n",
       "275               276         23       162.56            67  25.4   \n",
       "276               277         34       160.02            59  23.0   \n",
       "277               278         25       170.18            62  21.4   \n",
       "278               279         21       152.40            56  24.1   \n",
       "279               280         26       160.02            45  17.6   \n",
       "\n",
       "     Diabetes(Y/N)  HighBP(Y/N)  Weight gain(Y/N)  Cycle(R/I)  \\\n",
       "0                0            1                 1           1   \n",
       "1                0            0                 0           1   \n",
       "2                1            0                 0           1   \n",
       "3                0            0                 0           0   \n",
       "4                1            0                 1           1   \n",
       "..             ...          ...               ...         ...   \n",
       "275              0            0                 1           1   \n",
       "276              0            0                 0           0   \n",
       "277              0            0                 1           0   \n",
       "278              0            0                 0           1   \n",
       "279              0            0                 1           1   \n",
       "\n",
       "     Cycle Durations (days)    ...  Pimples(Y/N)  Hair loss(Y/N)  \\\n",
       "0                           3  ...             1               1   \n",
       "1                           3  ...             0               1   \n",
       "2                           3  ...             1               1   \n",
       "3                           4  ...             1               1   \n",
       "4                           3  ...             0               1   \n",
       "..                        ...  ...           ...             ...   \n",
       "275                         5  ...             1               1   \n",
       "276                         2  ...             1               1   \n",
       "277                         2  ...             1               1   \n",
       "278                         4  ...             1               1   \n",
       "279                         3  ...             1               0   \n",
       "\n",
       "     Skin darkening (Y/N)  Fast food (Y/N)  Reg.Exercise(Y/N)  \\\n",
       "0                       1                1                  1   \n",
       "1                       0                1                  1   \n",
       "2                       0                1                  1   \n",
       "3                       0                1                  1   \n",
       "4                       1                1                  0   \n",
       "..                    ...              ...                ...   \n",
       "275                     0                1                  1   \n",
       "276                     1                0                  1   \n",
       "277                     1                0                  0   \n",
       "278                     0                1                  1   \n",
       "279                     0                1                  1   \n",
       "\n",
       "     Marraige Status (Y/N)  Pregnant(Y/N)  Anxieties(Y/N)   PCOS(Y/N)  \\\n",
       "0                        0              0                1          1   \n",
       "1                        0              0                0          0   \n",
       "2                        0              0                1          0   \n",
       "3                        0              0                1          0   \n",
       "4                        0              0                0          1   \n",
       "..                     ...            ...              ...        ...   \n",
       "275                      0              0                1          1   \n",
       "276                      1              1                0          0   \n",
       "277                      1              1                1          0   \n",
       "278                      0              0                0          0   \n",
       "279                      1              0                0          0   \n",
       "\n",
       "     under treatment(Y/N)  \n",
       "0                       0  \n",
       "1                       0  \n",
       "2                       0  \n",
       "3                       0  \n",
       "4                       0  \n",
       "..                    ...  \n",
       "275                     1  \n",
       "276                     1  \n",
       "277                     0  \n",
       "278                     0  \n",
       "279                     0  \n",
       "\n",
       "[280 rows x 21 columns]"
      ]
     },
     "execution_count": 215,
     "metadata": {},
     "output_type": "execute_result"
    }
   ],
   "source": [
    "pcos\n"
   ]
  },
  {
   "cell_type": "code",
   "execution_count": 216,
   "id": "abd92a9e",
   "metadata": {},
   "outputs": [
    {
     "data": {
      "text/plain": [
       "Patient File No.             0\n",
       "Age (yrs)                    0\n",
       "height(cm)                   0\n",
       "weight (kgs)                 0\n",
       "BMI                          0\n",
       "Diabetes(Y/N)                0\n",
       "HighBP(Y/N)                  0\n",
       "Weight gain(Y/N)             0\n",
       "Cycle(R/I)                   0\n",
       "Cycle Durations (days)       0\n",
       "Unwanted hair growth(Y/N)    0\n",
       "Pimples(Y/N)                 0\n",
       "Hair loss(Y/N)               0\n",
       "Skin darkening (Y/N)         0\n",
       "Fast food (Y/N)              0\n",
       "Reg.Exercise(Y/N)            0\n",
       "Marraige Status (Y/N)        0\n",
       "Pregnant(Y/N)                0\n",
       "Anxieties(Y/N)               0\n",
       "PCOS(Y/N)                    0\n",
       "under treatment(Y/N)         0\n",
       "dtype: int64"
      ]
     },
     "execution_count": 216,
     "metadata": {},
     "output_type": "execute_result"
    }
   ],
   "source": [
    "pcos.isnull().sum()"
   ]
  },
  {
   "cell_type": "code",
   "execution_count": 217,
   "id": "deda00b0",
   "metadata": {},
   "outputs": [],
   "source": [
    "pcos = pcos.drop([ 'Patient File No.'], axis =1)"
   ]
  },
  {
   "cell_type": "code",
   "execution_count": 218,
   "id": "15361585",
   "metadata": {},
   "outputs": [
    {
     "data": {
      "text/html": [
       "<div>\n",
       "<style scoped>\n",
       "    .dataframe tbody tr th:only-of-type {\n",
       "        vertical-align: middle;\n",
       "    }\n",
       "\n",
       "    .dataframe tbody tr th {\n",
       "        vertical-align: top;\n",
       "    }\n",
       "\n",
       "    .dataframe thead th {\n",
       "        text-align: right;\n",
       "    }\n",
       "</style>\n",
       "<table border=\"1\" class=\"dataframe\">\n",
       "  <thead>\n",
       "    <tr style=\"text-align: right;\">\n",
       "      <th></th>\n",
       "      <th>Age (yrs)</th>\n",
       "      <th>height(cm)</th>\n",
       "      <th>weight (kgs)</th>\n",
       "      <th>BMI</th>\n",
       "      <th>Diabetes(Y/N)</th>\n",
       "      <th>HighBP(Y/N)</th>\n",
       "      <th>Weight gain(Y/N)</th>\n",
       "      <th>Cycle(R/I)</th>\n",
       "      <th>Cycle Durations (days)</th>\n",
       "      <th>Unwanted hair growth(Y/N)</th>\n",
       "      <th>Pimples(Y/N)</th>\n",
       "      <th>Hair loss(Y/N)</th>\n",
       "      <th>Skin darkening (Y/N)</th>\n",
       "      <th>Fast food (Y/N)</th>\n",
       "      <th>Reg.Exercise(Y/N)</th>\n",
       "      <th>Marraige Status (Y/N)</th>\n",
       "      <th>Pregnant(Y/N)</th>\n",
       "      <th>Anxieties(Y/N)</th>\n",
       "      <th>PCOS(Y/N)</th>\n",
       "      <th>under treatment(Y/N)</th>\n",
       "    </tr>\n",
       "  </thead>\n",
       "  <tbody>\n",
       "    <tr>\n",
       "      <th>0</th>\n",
       "      <td>24</td>\n",
       "      <td>154.94</td>\n",
       "      <td>63</td>\n",
       "      <td>26.2</td>\n",
       "      <td>0</td>\n",
       "      <td>1</td>\n",
       "      <td>1</td>\n",
       "      <td>1</td>\n",
       "      <td>3</td>\n",
       "      <td>1</td>\n",
       "      <td>1</td>\n",
       "      <td>1</td>\n",
       "      <td>1</td>\n",
       "      <td>1</td>\n",
       "      <td>1</td>\n",
       "      <td>0</td>\n",
       "      <td>0</td>\n",
       "      <td>1</td>\n",
       "      <td>1</td>\n",
       "      <td>0</td>\n",
       "    </tr>\n",
       "    <tr>\n",
       "      <th>1</th>\n",
       "      <td>23</td>\n",
       "      <td>157.48</td>\n",
       "      <td>59</td>\n",
       "      <td>23.8</td>\n",
       "      <td>0</td>\n",
       "      <td>0</td>\n",
       "      <td>0</td>\n",
       "      <td>1</td>\n",
       "      <td>3</td>\n",
       "      <td>1</td>\n",
       "      <td>0</td>\n",
       "      <td>1</td>\n",
       "      <td>0</td>\n",
       "      <td>1</td>\n",
       "      <td>1</td>\n",
       "      <td>0</td>\n",
       "      <td>0</td>\n",
       "      <td>0</td>\n",
       "      <td>0</td>\n",
       "      <td>0</td>\n",
       "    </tr>\n",
       "    <tr>\n",
       "      <th>2</th>\n",
       "      <td>24</td>\n",
       "      <td>160.02</td>\n",
       "      <td>59</td>\n",
       "      <td>23.0</td>\n",
       "      <td>1</td>\n",
       "      <td>0</td>\n",
       "      <td>0</td>\n",
       "      <td>1</td>\n",
       "      <td>3</td>\n",
       "      <td>0</td>\n",
       "      <td>1</td>\n",
       "      <td>1</td>\n",
       "      <td>0</td>\n",
       "      <td>1</td>\n",
       "      <td>1</td>\n",
       "      <td>0</td>\n",
       "      <td>0</td>\n",
       "      <td>1</td>\n",
       "      <td>0</td>\n",
       "      <td>0</td>\n",
       "    </tr>\n",
       "    <tr>\n",
       "      <th>3</th>\n",
       "      <td>23</td>\n",
       "      <td>162.56</td>\n",
       "      <td>44</td>\n",
       "      <td>16.7</td>\n",
       "      <td>0</td>\n",
       "      <td>0</td>\n",
       "      <td>0</td>\n",
       "      <td>0</td>\n",
       "      <td>4</td>\n",
       "      <td>0</td>\n",
       "      <td>1</td>\n",
       "      <td>1</td>\n",
       "      <td>0</td>\n",
       "      <td>1</td>\n",
       "      <td>1</td>\n",
       "      <td>0</td>\n",
       "      <td>0</td>\n",
       "      <td>1</td>\n",
       "      <td>0</td>\n",
       "      <td>0</td>\n",
       "    </tr>\n",
       "    <tr>\n",
       "      <th>4</th>\n",
       "      <td>22</td>\n",
       "      <td>165.10</td>\n",
       "      <td>80</td>\n",
       "      <td>29.3</td>\n",
       "      <td>1</td>\n",
       "      <td>0</td>\n",
       "      <td>1</td>\n",
       "      <td>1</td>\n",
       "      <td>3</td>\n",
       "      <td>1</td>\n",
       "      <td>0</td>\n",
       "      <td>1</td>\n",
       "      <td>1</td>\n",
       "      <td>1</td>\n",
       "      <td>0</td>\n",
       "      <td>0</td>\n",
       "      <td>0</td>\n",
       "      <td>0</td>\n",
       "      <td>1</td>\n",
       "      <td>0</td>\n",
       "    </tr>\n",
       "    <tr>\n",
       "      <th>...</th>\n",
       "      <td>...</td>\n",
       "      <td>...</td>\n",
       "      <td>...</td>\n",
       "      <td>...</td>\n",
       "      <td>...</td>\n",
       "      <td>...</td>\n",
       "      <td>...</td>\n",
       "      <td>...</td>\n",
       "      <td>...</td>\n",
       "      <td>...</td>\n",
       "      <td>...</td>\n",
       "      <td>...</td>\n",
       "      <td>...</td>\n",
       "      <td>...</td>\n",
       "      <td>...</td>\n",
       "      <td>...</td>\n",
       "      <td>...</td>\n",
       "      <td>...</td>\n",
       "      <td>...</td>\n",
       "      <td>...</td>\n",
       "    </tr>\n",
       "    <tr>\n",
       "      <th>275</th>\n",
       "      <td>23</td>\n",
       "      <td>162.56</td>\n",
       "      <td>67</td>\n",
       "      <td>25.4</td>\n",
       "      <td>0</td>\n",
       "      <td>0</td>\n",
       "      <td>1</td>\n",
       "      <td>1</td>\n",
       "      <td>5</td>\n",
       "      <td>0</td>\n",
       "      <td>1</td>\n",
       "      <td>1</td>\n",
       "      <td>0</td>\n",
       "      <td>1</td>\n",
       "      <td>1</td>\n",
       "      <td>0</td>\n",
       "      <td>0</td>\n",
       "      <td>1</td>\n",
       "      <td>1</td>\n",
       "      <td>1</td>\n",
       "    </tr>\n",
       "    <tr>\n",
       "      <th>276</th>\n",
       "      <td>34</td>\n",
       "      <td>160.02</td>\n",
       "      <td>59</td>\n",
       "      <td>23.0</td>\n",
       "      <td>0</td>\n",
       "      <td>0</td>\n",
       "      <td>0</td>\n",
       "      <td>0</td>\n",
       "      <td>2</td>\n",
       "      <td>1</td>\n",
       "      <td>1</td>\n",
       "      <td>1</td>\n",
       "      <td>1</td>\n",
       "      <td>0</td>\n",
       "      <td>1</td>\n",
       "      <td>1</td>\n",
       "      <td>1</td>\n",
       "      <td>0</td>\n",
       "      <td>0</td>\n",
       "      <td>1</td>\n",
       "    </tr>\n",
       "    <tr>\n",
       "      <th>277</th>\n",
       "      <td>25</td>\n",
       "      <td>170.18</td>\n",
       "      <td>62</td>\n",
       "      <td>21.4</td>\n",
       "      <td>0</td>\n",
       "      <td>0</td>\n",
       "      <td>1</td>\n",
       "      <td>0</td>\n",
       "      <td>2</td>\n",
       "      <td>1</td>\n",
       "      <td>1</td>\n",
       "      <td>1</td>\n",
       "      <td>1</td>\n",
       "      <td>0</td>\n",
       "      <td>0</td>\n",
       "      <td>1</td>\n",
       "      <td>1</td>\n",
       "      <td>1</td>\n",
       "      <td>0</td>\n",
       "      <td>0</td>\n",
       "    </tr>\n",
       "    <tr>\n",
       "      <th>278</th>\n",
       "      <td>21</td>\n",
       "      <td>152.40</td>\n",
       "      <td>56</td>\n",
       "      <td>24.1</td>\n",
       "      <td>0</td>\n",
       "      <td>0</td>\n",
       "      <td>0</td>\n",
       "      <td>1</td>\n",
       "      <td>4</td>\n",
       "      <td>0</td>\n",
       "      <td>1</td>\n",
       "      <td>1</td>\n",
       "      <td>0</td>\n",
       "      <td>1</td>\n",
       "      <td>1</td>\n",
       "      <td>0</td>\n",
       "      <td>0</td>\n",
       "      <td>0</td>\n",
       "      <td>0</td>\n",
       "      <td>0</td>\n",
       "    </tr>\n",
       "    <tr>\n",
       "      <th>279</th>\n",
       "      <td>26</td>\n",
       "      <td>160.02</td>\n",
       "      <td>45</td>\n",
       "      <td>17.6</td>\n",
       "      <td>0</td>\n",
       "      <td>0</td>\n",
       "      <td>1</td>\n",
       "      <td>1</td>\n",
       "      <td>3</td>\n",
       "      <td>1</td>\n",
       "      <td>1</td>\n",
       "      <td>0</td>\n",
       "      <td>0</td>\n",
       "      <td>1</td>\n",
       "      <td>1</td>\n",
       "      <td>1</td>\n",
       "      <td>0</td>\n",
       "      <td>0</td>\n",
       "      <td>0</td>\n",
       "      <td>0</td>\n",
       "    </tr>\n",
       "  </tbody>\n",
       "</table>\n",
       "<p>280 rows × 20 columns</p>\n",
       "</div>"
      ],
      "text/plain": [
       "     Age (yrs)  height(cm)   weight (kgs)   BMI  Diabetes(Y/N)  HighBP(Y/N)  \\\n",
       "0           24       154.94            63  26.2              0            1   \n",
       "1           23       157.48            59  23.8              0            0   \n",
       "2           24       160.02            59  23.0              1            0   \n",
       "3           23       162.56            44  16.7              0            0   \n",
       "4           22       165.10            80  29.3              1            0   \n",
       "..         ...          ...           ...   ...            ...          ...   \n",
       "275         23       162.56            67  25.4              0            0   \n",
       "276         34       160.02            59  23.0              0            0   \n",
       "277         25       170.18            62  21.4              0            0   \n",
       "278         21       152.40            56  24.1              0            0   \n",
       "279         26       160.02            45  17.6              0            0   \n",
       "\n",
       "     Weight gain(Y/N)  Cycle(R/I)  Cycle Durations (days)    \\\n",
       "0                   1           1                         3   \n",
       "1                   0           1                         3   \n",
       "2                   0           1                         3   \n",
       "3                   0           0                         4   \n",
       "4                   1           1                         3   \n",
       "..                ...         ...                       ...   \n",
       "275                 1           1                         5   \n",
       "276                 0           0                         2   \n",
       "277                 1           0                         2   \n",
       "278                 0           1                         4   \n",
       "279                 1           1                         3   \n",
       "\n",
       "     Unwanted hair growth(Y/N)  Pimples(Y/N)  Hair loss(Y/N)  \\\n",
       "0                            1             1               1   \n",
       "1                            1             0               1   \n",
       "2                            0             1               1   \n",
       "3                            0             1               1   \n",
       "4                            1             0               1   \n",
       "..                         ...           ...             ...   \n",
       "275                          0             1               1   \n",
       "276                          1             1               1   \n",
       "277                          1             1               1   \n",
       "278                          0             1               1   \n",
       "279                          1             1               0   \n",
       "\n",
       "     Skin darkening (Y/N)  Fast food (Y/N)  Reg.Exercise(Y/N)  \\\n",
       "0                       1                1                  1   \n",
       "1                       0                1                  1   \n",
       "2                       0                1                  1   \n",
       "3                       0                1                  1   \n",
       "4                       1                1                  0   \n",
       "..                    ...              ...                ...   \n",
       "275                     0                1                  1   \n",
       "276                     1                0                  1   \n",
       "277                     1                0                  0   \n",
       "278                     0                1                  1   \n",
       "279                     0                1                  1   \n",
       "\n",
       "     Marraige Status (Y/N)  Pregnant(Y/N)  Anxieties(Y/N)   PCOS(Y/N)  \\\n",
       "0                        0              0                1          1   \n",
       "1                        0              0                0          0   \n",
       "2                        0              0                1          0   \n",
       "3                        0              0                1          0   \n",
       "4                        0              0                0          1   \n",
       "..                     ...            ...              ...        ...   \n",
       "275                      0              0                1          1   \n",
       "276                      1              1                0          0   \n",
       "277                      1              1                1          0   \n",
       "278                      0              0                0          0   \n",
       "279                      1              0                0          0   \n",
       "\n",
       "     under treatment(Y/N)  \n",
       "0                       0  \n",
       "1                       0  \n",
       "2                       0  \n",
       "3                       0  \n",
       "4                       0  \n",
       "..                    ...  \n",
       "275                     1  \n",
       "276                     1  \n",
       "277                     0  \n",
       "278                     0  \n",
       "279                     0  \n",
       "\n",
       "[280 rows x 20 columns]"
      ]
     },
     "execution_count": 218,
     "metadata": {},
     "output_type": "execute_result"
    }
   ],
   "source": [
    "pcos"
   ]
  },
  {
   "cell_type": "code",
   "execution_count": 219,
   "id": "be59bbe6",
   "metadata": {},
   "outputs": [
    {
     "name": "stdout",
     "output_type": "stream",
     "text": [
      "Total number of Features: 18\n"
     ]
    }
   ],
   "source": [
    "target = pcos.columns[18:19].to_list()\n",
    "features = pcos.columns[0:18].to_list()\n",
    "print(\"Total number of Features:\", len(features))"
   ]
  },
  {
   "cell_type": "code",
   "execution_count": 220,
   "id": "17e5b129",
   "metadata": {},
   "outputs": [
    {
     "data": {
      "text/plain": [
       "['Age (yrs)',\n",
       " 'height(cm) ',\n",
       " 'weight (kgs)',\n",
       " 'BMI',\n",
       " 'Diabetes(Y/N)',\n",
       " 'HighBP(Y/N)',\n",
       " 'Weight gain(Y/N)',\n",
       " 'Cycle(R/I)',\n",
       " 'Cycle Durations (days)  ',\n",
       " 'Unwanted hair growth(Y/N)',\n",
       " 'Pimples(Y/N)',\n",
       " 'Hair loss(Y/N)',\n",
       " 'Skin darkening (Y/N)',\n",
       " 'Fast food (Y/N)',\n",
       " 'Reg.Exercise(Y/N)',\n",
       " 'Marraige Status (Y/N)',\n",
       " 'Pregnant(Y/N)',\n",
       " 'Anxieties(Y/N) ']"
      ]
     },
     "execution_count": 220,
     "metadata": {},
     "output_type": "execute_result"
    }
   ],
   "source": [
    "features"
   ]
  },
  {
   "cell_type": "code",
   "execution_count": 221,
   "id": "b4b4afa4",
   "metadata": {},
   "outputs": [
    {
     "data": {
      "text/plain": [
       "['PCOS(Y/N)']"
      ]
     },
     "execution_count": 221,
     "metadata": {},
     "output_type": "execute_result"
    }
   ],
   "source": [
    "target"
   ]
  },
  {
   "cell_type": "code",
   "execution_count": 222,
   "id": "f4a1957d",
   "metadata": {},
   "outputs": [
    {
     "data": {
      "text/plain": [
       "Age (yrs)                      int64\n",
       "height(cm)                   float64\n",
       "weight (kgs)                   int64\n",
       "BMI                          float64\n",
       "Diabetes(Y/N)                  int64\n",
       "HighBP(Y/N)                    int64\n",
       "Weight gain(Y/N)               int64\n",
       "Cycle(R/I)                     int64\n",
       "Cycle Durations (days)         int64\n",
       "Unwanted hair growth(Y/N)      int64\n",
       "Pimples(Y/N)                   int64\n",
       "Hair loss(Y/N)                 int64\n",
       "Skin darkening (Y/N)           int64\n",
       "Fast food (Y/N)                int64\n",
       "Reg.Exercise(Y/N)              int64\n",
       "Marraige Status (Y/N)          int64\n",
       "Pregnant(Y/N)                  int64\n",
       "Anxieties(Y/N)                 int64\n",
       "PCOS(Y/N)                      int64\n",
       "under treatment(Y/N)           int64\n",
       "dtype: object"
      ]
     },
     "execution_count": 222,
     "metadata": {},
     "output_type": "execute_result"
    }
   ],
   "source": [
    "pcos.dtypes"
   ]
  },
  {
   "cell_type": "code",
   "execution_count": 223,
   "id": "e3473810",
   "metadata": {},
   "outputs": [
    {
     "data": {
      "text/html": [
       "<div>\n",
       "<style scoped>\n",
       "    .dataframe tbody tr th:only-of-type {\n",
       "        vertical-align: middle;\n",
       "    }\n",
       "\n",
       "    .dataframe tbody tr th {\n",
       "        vertical-align: top;\n",
       "    }\n",
       "\n",
       "    .dataframe thead th {\n",
       "        text-align: right;\n",
       "    }\n",
       "</style>\n",
       "<table border=\"1\" class=\"dataframe\">\n",
       "  <thead>\n",
       "    <tr style=\"text-align: right;\">\n",
       "      <th></th>\n",
       "      <th>Feature</th>\n",
       "      <th>Score</th>\n",
       "    </tr>\n",
       "  </thead>\n",
       "  <tbody>\n",
       "    <tr>\n",
       "      <th>0</th>\n",
       "      <td>weight (kgs)</td>\n",
       "      <td>314.327905</td>\n",
       "    </tr>\n",
       "    <tr>\n",
       "      <th>1</th>\n",
       "      <td>BMI</td>\n",
       "      <td>188.179570</td>\n",
       "    </tr>\n",
       "    <tr>\n",
       "      <th>2</th>\n",
       "      <td>Age (yrs)</td>\n",
       "      <td>48.378569</td>\n",
       "    </tr>\n",
       "    <tr>\n",
       "      <th>3</th>\n",
       "      <td>Weight gain(Y/N)</td>\n",
       "      <td>22.075743</td>\n",
       "    </tr>\n",
       "    <tr>\n",
       "      <th>4</th>\n",
       "      <td>Marraige Status (Y/N)</td>\n",
       "      <td>16.612233</td>\n",
       "    </tr>\n",
       "    <tr>\n",
       "      <th>5</th>\n",
       "      <td>Pregnant(Y/N)</td>\n",
       "      <td>13.272180</td>\n",
       "    </tr>\n",
       "    <tr>\n",
       "      <th>6</th>\n",
       "      <td>HighBP(Y/N)</td>\n",
       "      <td>13.007881</td>\n",
       "    </tr>\n",
       "    <tr>\n",
       "      <th>7</th>\n",
       "      <td>Unwanted hair growth(Y/N)</td>\n",
       "      <td>8.339211</td>\n",
       "    </tr>\n",
       "    <tr>\n",
       "      <th>8</th>\n",
       "      <td>Skin darkening (Y/N)</td>\n",
       "      <td>7.415745</td>\n",
       "    </tr>\n",
       "    <tr>\n",
       "      <th>9</th>\n",
       "      <td>height(cm)</td>\n",
       "      <td>6.608136</td>\n",
       "    </tr>\n",
       "    <tr>\n",
       "      <th>10</th>\n",
       "      <td>Cycle(R/I)</td>\n",
       "      <td>6.393862</td>\n",
       "    </tr>\n",
       "    <tr>\n",
       "      <th>11</th>\n",
       "      <td>Anxieties(Y/N)</td>\n",
       "      <td>6.150334</td>\n",
       "    </tr>\n",
       "  </tbody>\n",
       "</table>\n",
       "</div>"
      ],
      "text/plain": [
       "                      Feature       Score\n",
       "0                weight (kgs)  314.327905\n",
       "1                         BMI  188.179570\n",
       "2                   Age (yrs)   48.378569\n",
       "3            Weight gain(Y/N)   22.075743\n",
       "4       Marraige Status (Y/N)   16.612233\n",
       "5               Pregnant(Y/N)   13.272180\n",
       "6                 HighBP(Y/N)   13.007881\n",
       "7   Unwanted hair growth(Y/N)    8.339211\n",
       "8        Skin darkening (Y/N)    7.415745\n",
       "9                 height(cm)     6.608136\n",
       "10                 Cycle(R/I)    6.393862\n",
       "11            Anxieties(Y/N)     6.150334"
      ]
     },
     "execution_count": 223,
     "metadata": {},
     "output_type": "execute_result"
    }
   ],
   "source": [
    "from sklearn.feature_selection import SelectKBest\n",
    "from sklearn.feature_selection import chi2\n",
    "num = 12\n",
    "bestfeatures = SelectKBest(score_func=chi2, k=num)\n",
    "fit = bestfeatures.fit(pcos[features], pcos[target])\n",
    "dfscores = pd.DataFrame(fit.scores_)\n",
    "dfcolumns = pd.DataFrame(pcos.columns)\n",
    "featureScores = pd.concat([dfcolumns, dfscores], axis=1)\n",
    "featureScores.columns = ['Feature','Score']\n",
    "featureScores = featureScores.sort_values(by='Score', ascending = False)\n",
    "featureScores = featureScores[featureScores.Feature != target[0]]\n",
    "featureScores = featureScores.reset_index(drop = True)\n",
    "featureScores[:num]"
   ]
  },
  {
   "cell_type": "code",
   "execution_count": 224,
   "id": "4939456b",
   "metadata": {},
   "outputs": [],
   "source": [
    "new_features = featureScores['Feature'].to_list()\n",
    "new_features = new_features[:num]"
   ]
  },
  {
   "cell_type": "code",
   "execution_count": 225,
   "id": "3a286efa",
   "metadata": {},
   "outputs": [
    {
     "data": {
      "text/plain": [
       "['weight (kgs)',\n",
       " 'BMI',\n",
       " 'Age (yrs)',\n",
       " 'Weight gain(Y/N)',\n",
       " 'Marraige Status (Y/N)',\n",
       " 'Pregnant(Y/N)',\n",
       " 'HighBP(Y/N)',\n",
       " 'Unwanted hair growth(Y/N)',\n",
       " 'Skin darkening (Y/N)',\n",
       " 'height(cm) ',\n",
       " 'Cycle(R/I)',\n",
       " 'Anxieties(Y/N) ']"
      ]
     },
     "execution_count": 225,
     "metadata": {},
     "output_type": "execute_result"
    }
   ],
   "source": [
    "new_features"
   ]
  },
  {
   "cell_type": "code",
   "execution_count": 226,
   "id": "95df29fe",
   "metadata": {},
   "outputs": [],
   "source": [
    "X = pcos[['weight (kgs)', 'BMI', 'Age (yrs)', 'Weight gain(Y/N)', 'Marraige Status (Y/N)', 'Pregnant(Y/N)', 'HighBP(Y/N)', 'Unwanted hair growth(Y/N)', 'Skin darkening (Y/N)', 'height(cm) ', 'Cycle(R/I)', 'Anxieties(Y/N) ']]\n",
    "Y = pcos['PCOS(Y/N)']"
   ]
  },
  {
   "cell_type": "code",
   "execution_count": 227,
   "id": "62565866",
   "metadata": {},
   "outputs": [
    {
     "name": "stdout",
     "output_type": "stream",
     "text": [
      "     weight (kgs)   BMI  Age (yrs)  Weight gain(Y/N)  Marraige Status (Y/N)  \\\n",
      "0              63  26.2         24                 1                      0   \n",
      "1              59  23.8         23                 0                      0   \n",
      "2              59  23.0         24                 0                      0   \n",
      "3              44  16.7         23                 0                      0   \n",
      "4              80  29.3         22                 1                      0   \n",
      "..            ...   ...        ...               ...                    ...   \n",
      "275            67  25.4         23                 1                      0   \n",
      "276            59  23.0         34                 0                      1   \n",
      "277            62  21.4         25                 1                      1   \n",
      "278            56  24.1         21                 0                      0   \n",
      "279            45  17.6         26                 1                      1   \n",
      "\n",
      "     Pregnant(Y/N)  HighBP(Y/N)  Unwanted hair growth(Y/N)  \\\n",
      "0                0            1                          1   \n",
      "1                0            0                          1   \n",
      "2                0            0                          0   \n",
      "3                0            0                          0   \n",
      "4                0            0                          1   \n",
      "..             ...          ...                        ...   \n",
      "275              0            0                          0   \n",
      "276              1            0                          1   \n",
      "277              1            0                          1   \n",
      "278              0            0                          0   \n",
      "279              0            0                          1   \n",
      "\n",
      "     Skin darkening (Y/N)  height(cm)   Cycle(R/I)  Anxieties(Y/N)   \n",
      "0                       1       154.94           1                1  \n",
      "1                       0       157.48           1                0  \n",
      "2                       0       160.02           1                1  \n",
      "3                       0       162.56           0                1  \n",
      "4                       1       165.10           1                0  \n",
      "..                    ...          ...         ...              ...  \n",
      "275                     0       162.56           1                1  \n",
      "276                     1       160.02           0                0  \n",
      "277                     1       170.18           0                1  \n",
      "278                     0       152.40           1                0  \n",
      "279                     0       160.02           1                0  \n",
      "\n",
      "[280 rows x 12 columns]\n"
     ]
    }
   ],
   "source": [
    "print(X)"
   ]
  },
  {
   "cell_type": "code",
   "execution_count": 228,
   "id": "6b814b37",
   "metadata": {},
   "outputs": [
    {
     "name": "stdout",
     "output_type": "stream",
     "text": [
      "0      1\n",
      "1      0\n",
      "2      0\n",
      "3      0\n",
      "4      1\n",
      "      ..\n",
      "275    1\n",
      "276    0\n",
      "277    0\n",
      "278    0\n",
      "279    0\n",
      "Name: PCOS(Y/N), Length: 280, dtype: int64\n"
     ]
    }
   ],
   "source": [
    "print(Y)"
   ]
  },
  {
   "cell_type": "code",
   "execution_count": 229,
   "id": "17e22cc4",
   "metadata": {},
   "outputs": [],
   "source": [
    "\n",
    "from sklearn.model_selection import  train_test_split"
   ]
  },
  {
   "cell_type": "code",
   "execution_count": 230,
   "id": "4a225e5b",
   "metadata": {},
   "outputs": [],
   "source": [
    "X_train, X_test, Y_train, Y_test = train_test_split(X, Y, test_size=0.2, stratify=Y, random_state=0)\n"
   ]
  },
  {
   "cell_type": "code",
   "execution_count": 231,
   "id": "bbece4b8",
   "metadata": {},
   "outputs": [
    {
     "name": "stdout",
     "output_type": "stream",
     "text": [
      "     weight (kgs)   BMI  Age (yrs)  Weight gain(Y/N)  Marraige Status (Y/N)  \\\n",
      "217            87  35.1         32                 0                      1   \n",
      "109            74  28.0         22                 0                      0   \n",
      "195            42  17.5         19                 0                      0   \n",
      "215            79  35.2         33                 1                      1   \n",
      "208            73  32.5         31                 1                      1   \n",
      "63             54  20.4         27                 0                      1   \n",
      "209            88  37.9         43                 0                      1   \n",
      "262            59  24.6         31                 0                      1   \n",
      "144            67  27.9         27                 1                      0   \n",
      "151            55  22.2         21                 1                      0   \n",
      "275            67  25.4         23                 1                      0   \n",
      "36             51  22.0         33                 0                      1   \n",
      "110            56  24.1         24                 1                      0   \n",
      "0              63  26.2         24                 1                      0   \n",
      "150            54  22.5         19                 0                      0   \n",
      "223            71  28.6         26                 0                      0   \n",
      "188            55  23.7         45                 0                      1   \n",
      "123            76  32.7         36                 0                      1   \n",
      "146            82  35.3         34                 0                      1   \n",
      "177            67  27.9         19                 1                      0   \n",
      "108            56  26.7         25                 1                      0   \n",
      "163            62  23.5         22                 0                      0   \n",
      "83             54  21.1         25                 0                      0   \n",
      "234            81  34.9         35                 1                      1   \n",
      "17             48  18.2         22                 0                      0   \n",
      "259            48  19.4         23                 0                      0   \n",
      "152            63  25.4         28                 0                      1   \n",
      "59             72  28.1         29                 0                      1   \n",
      "119            79  35.2         36                 1                      1   \n",
      "194            53  20.7         19                 0                      0   \n",
      "254            51  21.2         26                 0                      1   \n",
      "35             62  26.7         23                 1                      1   \n",
      "222            78  30.5         25                 1                      0   \n",
      "30             52  22.4         37                 0                      1   \n",
      "155            63  24.6         39                 1                      1   \n",
      "185            53  22.8         27                 0                      0   \n",
      "265            65  28.0         50                 1                      1   \n",
      "14             57  19.7         23                 0                      0   \n",
      "89             65  28.0         25                 1                      1   \n",
      "77             80  30.3         41                 1                      1   \n",
      "82             56  21.9         30                 0                      1   \n",
      "43             63  25.4         23                 1                      1   \n",
      "37             57  24.5         24                 1                      0   \n",
      "67             59  23.0         30                 0                      1   \n",
      "225            73  31.4         22                 1                      0   \n",
      "60             52  21.0         27                 0                      1   \n",
      "52             72  25.6         20                 0                      0   \n",
      "276            59  23.0         34                 0                      1   \n",
      "9              96  42.7         31                 1                      1   \n",
      "75             55  19.6         30                 0                      1   \n",
      "187            73  28.5         20                 0                      1   \n",
      "260            52  22.4         25                 1                      1   \n",
      "95             68  29.3         37                 1                      0   \n",
      "85             78  30.5         45                 1                      1   \n",
      "96             84  35.0         39                 0                      1   \n",
      "94             90  38.8         43                 1                      1   \n",
      "\n",
      "     Pregnant(Y/N)  HighBP(Y/N)  Unwanted hair growth(Y/N)  \\\n",
      "217              1            1                          1   \n",
      "109              0            0                          0   \n",
      "195              0            0                          0   \n",
      "215              1            1                          1   \n",
      "208              1            0                          1   \n",
      "63               1            0                          1   \n",
      "209              0            1                          1   \n",
      "262              0            0                          0   \n",
      "144              0            1                          0   \n",
      "151              0            1                          1   \n",
      "275              0            0                          0   \n",
      "36               1            0                          0   \n",
      "110              0            0                          1   \n",
      "0                0            1                          1   \n",
      "150              0            0                          0   \n",
      "223              0            0                          0   \n",
      "188              0            0                          0   \n",
      "123              1            1                          1   \n",
      "146              1            1                          1   \n",
      "177              0            0                          1   \n",
      "108              0            0                          1   \n",
      "163              0            0                          1   \n",
      "83               0            0                          0   \n",
      "234              1            0                          1   \n",
      "17               0            0                          0   \n",
      "259              0            0                          0   \n",
      "152              0            1                          0   \n",
      "59               0            0                          1   \n",
      "119              1            1                          1   \n",
      "194              0            0                          0   \n",
      "254              0            0                          0   \n",
      "35               0            0                          0   \n",
      "222              0            0                          1   \n",
      "30               1            0                          1   \n",
      "155              0            1                          1   \n",
      "185              0            0                          1   \n",
      "265              0            1                          0   \n",
      "14               0            0                          1   \n",
      "89               1            1                          1   \n",
      "77               0            0                          0   \n",
      "82               1            0                          1   \n",
      "43               0            0                          0   \n",
      "37               0            0                          0   \n",
      "67               1            0                          0   \n",
      "225              0            1                          1   \n",
      "60               1            0                          1   \n",
      "52               0            0                          1   \n",
      "276              1            0                          1   \n",
      "9                1            0                          0   \n",
      "75               1            0                          1   \n",
      "187              0            0                          1   \n",
      "260              0            0                          0   \n",
      "95               0            0                          1   \n",
      "85               0            1                          0   \n",
      "96               1            1                          0   \n",
      "94               0            1                          1   \n",
      "\n",
      "     Skin darkening (Y/N)  height(cm)   Cycle(R/I)  Anxieties(Y/N)   \n",
      "217                     0       157.48           0                0  \n",
      "109                     0       162.56           1                0  \n",
      "195                     0       154.94           0                0  \n",
      "215                     0       149.86           0                0  \n",
      "208                     0       149.86           0                1  \n",
      "63                      1       162.56           0                1  \n",
      "209                     1       152.40           0                1  \n",
      "262                     0       154.94           1                1  \n",
      "144                     0       154.94           1                1  \n",
      "151                     1       157.48           1                1  \n",
      "275                     0       162.56           1                1  \n",
      "36                      1       152.40           0                0  \n",
      "110                     0       152.40           1                1  \n",
      "0                       1       154.94           1                1  \n",
      "150                     1       154.94           1                0  \n",
      "223                     0       157.48           0                1  \n",
      "188                     0       152.40           0                1  \n",
      "123                     1       152.40           1                1  \n",
      "146                     1       152.40           0                0  \n",
      "177                     0       154.94           0                1  \n",
      "108                     0       144.78           1                1  \n",
      "163                     0       162.56           1                0  \n",
      "83                      0       160.02           1                0  \n",
      "234                     1       152.40           0                1  \n",
      "17                      0       162.56           1                1  \n",
      "259                     0       157.48           0                1  \n",
      "152                     0       157.48           0                0  \n",
      "59                      0       160.02           0                0  \n",
      "119                     1       149.86           0                0  \n",
      "194                     0       160.02           0                0  \n",
      "254                     0       154.94           0                1  \n",
      "35                      0       152.40           1                0  \n",
      "222                     0       160.02           0                1  \n",
      "30                      1       152.40           1                1  \n",
      "155                     1       160.02           1                1  \n",
      "185                     0       152.40           1                0  \n",
      "265                     0       152.40           0                1  \n",
      "14                      0       170.18           1                0  \n",
      "89                      1       152.40           0                1  \n",
      "77                      0       162.56           1                1  \n",
      "82                      1       160.02           0                0  \n",
      "43                      1       157.48           0                1  \n",
      "37                      1       152.40           1                1  \n",
      "67                      0       160.02           1                1  \n",
      "225                     0       152.40           0                0  \n",
      "60                      1       157.48           0                1  \n",
      "52                      1       167.64           0                1  \n",
      "276                     1       160.02           0                0  \n",
      "9                       1       149.86           0                1  \n",
      "75                      0       167.64           0                0  \n",
      "187                     0       160.02           0                0  \n",
      "260                     0       152.40           0                1  \n",
      "95                      1       152.40           0                1  \n",
      "85                      0       160.02           1                1  \n",
      "96                      1       154.94           0                1  \n",
      "94                      1       152.40           0                1  \n"
     ]
    }
   ],
   "source": [
    "print(X_test)"
   ]
  },
  {
   "cell_type": "code",
   "execution_count": 232,
   "id": "da96cb3a",
   "metadata": {},
   "outputs": [
    {
     "name": "stdout",
     "output_type": "stream",
     "text": [
      "217    1\n",
      "109    1\n",
      "195    0\n",
      "215    1\n",
      "208    1\n",
      "63     0\n",
      "209    1\n",
      "262    0\n",
      "144    1\n",
      "151    0\n",
      "275    1\n",
      "36     0\n",
      "110    0\n",
      "0      1\n",
      "150    0\n",
      "223    1\n",
      "188    0\n",
      "123    1\n",
      "146    1\n",
      "177    1\n",
      "108    1\n",
      "163    0\n",
      "83     0\n",
      "234    1\n",
      "17     0\n",
      "259    0\n",
      "152    1\n",
      "59     1\n",
      "119    1\n",
      "194    0\n",
      "254    0\n",
      "35     1\n",
      "222    1\n",
      "30     0\n",
      "155    0\n",
      "185    0\n",
      "265    1\n",
      "14     0\n",
      "89     1\n",
      "77     1\n",
      "82     0\n",
      "43     1\n",
      "37     1\n",
      "67     0\n",
      "225    1\n",
      "60     0\n",
      "52     1\n",
      "276    0\n",
      "9      1\n",
      "75     0\n",
      "187    1\n",
      "260    0\n",
      "95     1\n",
      "85     1\n",
      "96     1\n",
      "94     1\n",
      "Name: PCOS(Y/N), dtype: int64\n"
     ]
    }
   ],
   "source": [
    "print(Y_test)"
   ]
  },
  {
   "cell_type": "code",
   "execution_count": 233,
   "id": "cf38986f",
   "metadata": {},
   "outputs": [
    {
     "name": "stdout",
     "output_type": "stream",
     "text": [
      "(280, 12) (224, 12) (56, 12)\n"
     ]
    }
   ],
   "source": [
    "print(X.shape, X_train.shape, X_test.shape)"
   ]
  },
  {
   "cell_type": "markdown",
   "id": "5f85e1dc",
   "metadata": {},
   "source": [
    "# Model evaluation with Logistic Regression"
   ]
  },
  {
   "cell_type": "code",
   "execution_count": 234,
   "id": "b38aab82",
   "metadata": {},
   "outputs": [],
   "source": [
    "from sklearn.linear_model import LogisticRegression\n",
    "\n"
   ]
  },
  {
   "cell_type": "code",
   "execution_count": 235,
   "id": "31b30efc",
   "metadata": {},
   "outputs": [],
   "source": [
    "model = LogisticRegression(solver='liblinear')"
   ]
  },
  {
   "cell_type": "code",
   "execution_count": 236,
   "id": "74fbefc6",
   "metadata": {},
   "outputs": [
    {
     "data": {
      "text/plain": [
       "LogisticRegression(solver='liblinear')"
      ]
     },
     "execution_count": 236,
     "metadata": {},
     "output_type": "execute_result"
    }
   ],
   "source": [
    "model.fit(X_train, Y_train)"
   ]
  },
  {
   "cell_type": "code",
   "execution_count": 237,
   "id": "f60bd902",
   "metadata": {},
   "outputs": [],
   "source": [
    "from sklearn.metrics import accuracy_score\n",
    "\n"
   ]
  },
  {
   "cell_type": "code",
   "execution_count": 238,
   "id": "2fc2155d",
   "metadata": {},
   "outputs": [],
   "source": [
    "# accuracy on training data\n",
    "X_train_prediction = model.predict(X_train)\n",
    "training_data_accuracy = accuracy_score(X_train_prediction, Y_train)"
   ]
  },
  {
   "cell_type": "code",
   "execution_count": 239,
   "id": "d5f9de39",
   "metadata": {},
   "outputs": [
    {
     "name": "stdout",
     "output_type": "stream",
     "text": [
      "Accuracy on Training data :  0.9866071428571429\n"
     ]
    }
   ],
   "source": [
    "print('Accuracy on Training data : ', training_data_accuracy)"
   ]
  },
  {
   "cell_type": "code",
   "execution_count": 240,
   "id": "f1c4caf2",
   "metadata": {},
   "outputs": [],
   "source": [
    "# accuracy on test data\n",
    "X_test_prediction = model.predict(X_test)\n",
    "test_data_accuracy = accuracy_score(X_test_prediction, Y_test)"
   ]
  },
  {
   "cell_type": "code",
   "execution_count": 241,
   "id": "36f9505b",
   "metadata": {},
   "outputs": [
    {
     "name": "stdout",
     "output_type": "stream",
     "text": [
      "Accuracy on Test data :  0.8571428571428571\n"
     ]
    }
   ],
   "source": [
    "print('Accuracy on Test data : ', test_data_accuracy)"
   ]
  },
  {
   "cell_type": "markdown",
   "id": "c33266b8",
   "metadata": {},
   "source": [
    "# Building a Predictive System"
   ]
  },
  {
   "cell_type": "code",
   "execution_count": 242,
   "id": "b215bf6d",
   "metadata": {},
   "outputs": [
    {
     "name": "stdout",
     "output_type": "stream",
     "text": [
      "[1]\n",
      "The Person has PCOS\n"
     ]
    }
   ],
   "source": [
    "input_data = (63,26.2,24,1,0,0,1,1,1,154.94,1,1)\n",
    "\n",
    "# change the input data to a numpy array\n",
    "input_data_as_numpy_array= np.asarray(input_data)\n",
    "\n",
    "# reshape the numpy array as we are predicting for only on instance\n",
    "input_data_reshaped = input_data_as_numpy_array.reshape(1,-1)\n",
    "\n",
    "prediction = model.predict(input_data_reshaped)\n",
    "print(prediction)\n",
    "\n",
    "if (prediction[0]== 0):\n",
    "  print('The Person does not have PCOS')\n",
    "else:\n",
    "  print('The Person has PCOS')"
   ]
  },
  {
   "cell_type": "markdown",
   "id": "4006c1fd",
   "metadata": {},
   "source": [
    "# Model evaluation with Random forest"
   ]
  },
  {
   "cell_type": "code",
   "execution_count": 243,
   "id": "cb557489",
   "metadata": {},
   "outputs": [
    {
     "data": {
      "text/plain": [
       "RandomForestClassifier(n_estimators=200, random_state=0)"
      ]
     },
     "execution_count": 243,
     "metadata": {},
     "output_type": "execute_result"
    }
   ],
   "source": [
    "from sklearn.ensemble import RandomForestClassifier\n",
    "model = RandomForestClassifier(n_estimators=200, random_state=0)\n",
    "model.fit(X_train, Y_train)\n"
   ]
  },
  {
   "cell_type": "code",
   "execution_count": 244,
   "id": "d5cc71a7",
   "metadata": {},
   "outputs": [
    {
     "name": "stdout",
     "output_type": "stream",
     "text": [
      "Accuracy on Training data :  1.0\n"
     ]
    }
   ],
   "source": [
    "from sklearn.metrics import accuracy_score\n",
    "# accuracy on training data\n",
    "X_train_prediction = model.predict(X_train)\n",
    "training_data_accuracy = accuracy_score(X_train_prediction, Y_train)\n",
    "print('Accuracy on Training data : ', training_data_accuracy)\n"
   ]
  },
  {
   "cell_type": "code",
   "execution_count": 245,
   "id": "d052ce98",
   "metadata": {},
   "outputs": [
    {
     "name": "stdout",
     "output_type": "stream",
     "text": [
      "Accuracy on Test data :  0.9642857142857143\n"
     ]
    }
   ],
   "source": [
    "# accuracy on test data\n",
    "X_test_prediction = model.predict(X_test)\n",
    "test_data_accuracy = accuracy_score(X_test_prediction, Y_test)\n",
    "print('Accuracy on Test data : ', test_data_accuracy)"
   ]
  },
  {
   "cell_type": "code",
   "execution_count": 246,
   "id": "1113a6f6",
   "metadata": {},
   "outputs": [
    {
     "name": "stdout",
     "output_type": "stream",
     "text": [
      "[1]\n",
      "The Person has PCOS\n"
     ]
    }
   ],
   "source": [
    "input_data = (63,26.2,24,1,0,0,1,1,1,154.94,1,1)\n",
    "\n",
    "# change the input data to a numpy array\n",
    "input_data_as_numpy_array= np.asarray(input_data)\n",
    "\n",
    "# reshape the numpy array as we are predicting for only on instance\n",
    "input_data_reshaped = input_data_as_numpy_array.reshape(1,-1)\n",
    "\n",
    "prediction = model.predict(input_data_reshaped)\n",
    "print(prediction)\n",
    "\n",
    "if (prediction[0]== 0):\n",
    "  print('The Person does not have PCOS')\n",
    "else:\n",
    "  print('The Person has PCOS')"
   ]
  },
  {
   "cell_type": "markdown",
   "id": "8a4e0c7b",
   "metadata": {},
   "source": [
    "# Model evaluation with KNN"
   ]
  },
  {
   "cell_type": "code",
   "execution_count": 247,
   "id": "4222fdb0",
   "metadata": {},
   "outputs": [
    {
     "data": {
      "text/plain": [
       "KNeighborsClassifier()"
      ]
     },
     "execution_count": 247,
     "metadata": {},
     "output_type": "execute_result"
    }
   ],
   "source": [
    "from sklearn.neighbors import KNeighborsClassifier\n",
    "model = KNeighborsClassifier()\n",
    "model.fit(X_train, Y_train)\n"
   ]
  },
  {
   "cell_type": "code",
   "execution_count": 248,
   "id": "3eac9f61",
   "metadata": {},
   "outputs": [
    {
     "name": "stdout",
     "output_type": "stream",
     "text": [
      "Accuracy on Training data :  0.9732142857142857\n"
     ]
    }
   ],
   "source": [
    "from sklearn.metrics import accuracy_score\n",
    "# accuracy on training data\n",
    "X_train_prediction = model.predict(X_train)\n",
    "training_data_accuracy = accuracy_score(X_train_prediction, Y_train)\n",
    "print('Accuracy on Training data : ', training_data_accuracy)\n"
   ]
  },
  {
   "cell_type": "code",
   "execution_count": 249,
   "id": "bc87a5a2",
   "metadata": {},
   "outputs": [
    {
     "name": "stdout",
     "output_type": "stream",
     "text": [
      "Accuracy on Test data :  0.9285714285714286\n"
     ]
    }
   ],
   "source": [
    "# accuracy on test data\n",
    "X_test_prediction = model.predict(X_test)\n",
    "test_data_accuracy = accuracy_score(X_test_prediction, Y_test)\n",
    "print('Accuracy on Test data : ', test_data_accuracy)"
   ]
  },
  {
   "cell_type": "code",
   "execution_count": 250,
   "id": "bed0d986",
   "metadata": {},
   "outputs": [
    {
     "name": "stdout",
     "output_type": "stream",
     "text": [
      "[1]\n",
      "The Person has PCOS\n"
     ]
    }
   ],
   "source": [
    "input_data = (63,26.2,24,1,0,0,1,1,1,154.94,1,1)\n",
    "\n",
    "# change the input data to a numpy array\n",
    "input_data_as_numpy_array= np.asarray(input_data)\n",
    "\n",
    "# reshape the numpy array as we are predicting for only on instance\n",
    "input_data_reshaped = input_data_as_numpy_array.reshape(1,-1)\n",
    "\n",
    "prediction = model.predict(input_data_reshaped)\n",
    "print(prediction)\n",
    "\n",
    "if (prediction[0]== 0):\n",
    "  print('The Person does not have PCOS')\n",
    "else:\n",
    "  print('The Person has PCOS')"
   ]
  },
  {
   "cell_type": "markdown",
   "id": "1ebc1acf",
   "metadata": {},
   "source": [
    "# Model evaluation with Gaussian Naive Bayes"
   ]
  },
  {
   "cell_type": "code",
   "execution_count": 251,
   "id": "49a0b707",
   "metadata": {},
   "outputs": [
    {
     "data": {
      "text/plain": [
       "GaussianNB()"
      ]
     },
     "execution_count": 251,
     "metadata": {},
     "output_type": "execute_result"
    }
   ],
   "source": [
    "from sklearn.naive_bayes import GaussianNB\n",
    "model= GaussianNB()\n",
    "model.fit(X_train, Y_train)\n"
   ]
  },
  {
   "cell_type": "code",
   "execution_count": 252,
   "id": "c4122ec0",
   "metadata": {},
   "outputs": [
    {
     "name": "stdout",
     "output_type": "stream",
     "text": [
      "Accuracy on Training data :  0.90625\n"
     ]
    }
   ],
   "source": [
    "from sklearn.metrics import accuracy_score\n",
    "# accuracy on training data\n",
    "X_train_prediction = model.predict(X_train)\n",
    "training_data_accuracy = accuracy_score(X_train_prediction, Y_train)\n",
    "print('Accuracy on Training data : ', training_data_accuracy)\n"
   ]
  },
  {
   "cell_type": "code",
   "execution_count": 253,
   "id": "2d6e922e",
   "metadata": {},
   "outputs": [
    {
     "name": "stdout",
     "output_type": "stream",
     "text": [
      "Accuracy on Test data :  0.7321428571428571\n"
     ]
    }
   ],
   "source": [
    "# accuracy on test data\n",
    "X_test_prediction = model.predict(X_test)\n",
    "test_data_accuracy = accuracy_score(X_test_prediction, Y_test)\n",
    "print('Accuracy on Test data : ', test_data_accuracy)"
   ]
  },
  {
   "cell_type": "code",
   "execution_count": 254,
   "id": "6f68b4ed",
   "metadata": {},
   "outputs": [
    {
     "name": "stdout",
     "output_type": "stream",
     "text": [
      "[1]\n",
      "The Person has PCOS\n"
     ]
    }
   ],
   "source": [
    "input_data = (63,26.2,24,1,0,0,1,1,1,154.94,1,1)\n",
    "\n",
    "# change the input data to a numpy array\n",
    "input_data_as_numpy_array= np.asarray(input_data)\n",
    "\n",
    "# reshape the numpy array as we are predicting for only on instance\n",
    "input_data_reshaped = input_data_as_numpy_array.reshape(1,-1)\n",
    "\n",
    "prediction = model.predict(input_data_reshaped)\n",
    "print(prediction)\n",
    "\n",
    "if (prediction[0]== 0):\n",
    "  print('The Person does not have PCOS')\n",
    "else:\n",
    "  print('The Person has PCOS')"
   ]
  },
  {
   "cell_type": "markdown",
   "id": "a2d10081",
   "metadata": {},
   "source": [
    "# Model evaluation with Linear SVM"
   ]
  },
  {
   "cell_type": "code",
   "execution_count": 255,
   "id": "ebcee262",
   "metadata": {},
   "outputs": [
    {
     "data": {
      "text/plain": [
       "SVC(kernel='linear')"
      ]
     },
     "execution_count": 255,
     "metadata": {},
     "output_type": "execute_result"
    }
   ],
   "source": [
    "from sklearn import svm\n",
    "model= svm.SVC(kernel='linear')\n",
    "model.fit(X_train, Y_train)"
   ]
  },
  {
   "cell_type": "code",
   "execution_count": 256,
   "id": "b7ed952f",
   "metadata": {},
   "outputs": [
    {
     "name": "stdout",
     "output_type": "stream",
     "text": [
      "Accuracy on Training data :  0.9866071428571429\n"
     ]
    }
   ],
   "source": [
    "from sklearn.metrics import accuracy_score\n",
    "# accuracy on training data\n",
    "X_train_prediction = model.predict(X_train)\n",
    "training_data_accuracy = accuracy_score(X_train_prediction, Y_train)\n",
    "print('Accuracy on Training data : ', training_data_accuracy)\n"
   ]
  },
  {
   "cell_type": "code",
   "execution_count": 257,
   "id": "a7a5dd9e",
   "metadata": {},
   "outputs": [
    {
     "name": "stdout",
     "output_type": "stream",
     "text": [
      "Accuracy on Test data :  0.9107142857142857\n"
     ]
    }
   ],
   "source": [
    "# accuracy on test data\n",
    "X_test_prediction = model.predict(X_test)\n",
    "test_data_accuracy = accuracy_score(X_test_prediction, Y_test)\n",
    "print('Accuracy on Test data : ', test_data_accuracy)"
   ]
  },
  {
   "cell_type": "code",
   "execution_count": 258,
   "id": "3d4cbf98",
   "metadata": {},
   "outputs": [
    {
     "name": "stdout",
     "output_type": "stream",
     "text": [
      "[1]\n",
      "The Person has PCOS\n"
     ]
    }
   ],
   "source": [
    "input_data = (63,26.2,24,1,0,0,1,1,1,154.94,1,1)\n",
    "\n",
    "# change the input data to a numpy array\n",
    "input_data_as_numpy_array= np.asarray(input_data)\n",
    "\n",
    "# reshape the numpy array as we are predicting for only on instance\n",
    "input_data_reshaped = input_data_as_numpy_array.reshape(1,-1)\n",
    "\n",
    "prediction = model.predict(input_data_reshaped)\n",
    "print(prediction)\n",
    "\n",
    "if (prediction[0]== 0):\n",
    "  print('The Person does not have PCOS')\n",
    "else:\n",
    "  print('The Person has PCOS')"
   ]
  },
  {
   "cell_type": "markdown",
   "id": "203e0023",
   "metadata": {},
   "source": [
    "# Model evaluation with Radial SVM"
   ]
  },
  {
   "cell_type": "code",
   "execution_count": 259,
   "id": "f8fb5290",
   "metadata": {},
   "outputs": [
    {
     "data": {
      "text/plain": [
       "SVC()"
      ]
     },
     "execution_count": 259,
     "metadata": {},
     "output_type": "execute_result"
    }
   ],
   "source": [
    "from sklearn import svm\n",
    "model= svm.SVC(kernel='rbf')\n",
    "model.fit(X_train, Y_train)"
   ]
  },
  {
   "cell_type": "code",
   "execution_count": 260,
   "id": "b270e990",
   "metadata": {},
   "outputs": [
    {
     "name": "stdout",
     "output_type": "stream",
     "text": [
      "Accuracy on Training data :  0.9151785714285714\n"
     ]
    }
   ],
   "source": [
    "from sklearn.metrics import accuracy_score\n",
    "# accuracy on training data\n",
    "X_train_prediction = model.predict(X_train)\n",
    "training_data_accuracy = accuracy_score(X_train_prediction, Y_train)\n",
    "print('Accuracy on Training data : ', training_data_accuracy)\n"
   ]
  },
  {
   "cell_type": "code",
   "execution_count": 261,
   "id": "554f5913",
   "metadata": {},
   "outputs": [
    {
     "name": "stdout",
     "output_type": "stream",
     "text": [
      "Accuracy on Test data :  0.9107142857142857\n"
     ]
    }
   ],
   "source": [
    "# accuracy on test data\n",
    "X_test_prediction = model.predict(X_test)\n",
    "test_data_accuracy = accuracy_score(X_test_prediction, Y_test)\n",
    "print('Accuracy on Test data : ', test_data_accuracy)"
   ]
  },
  {
   "cell_type": "code",
   "execution_count": 262,
   "id": "83910bd4",
   "metadata": {},
   "outputs": [
    {
     "name": "stdout",
     "output_type": "stream",
     "text": [
      "[1]\n",
      "The Person has PCOS\n"
     ]
    }
   ],
   "source": [
    "input_data = (63,26.2,24,1,0,0,1,1,1,154.94,1,1)\n",
    "\n",
    "# change the input data to a numpy array\n",
    "input_data_as_numpy_array= np.asarray(input_data)\n",
    "\n",
    "# reshape the numpy array as we are predicting for only on instance\n",
    "input_data_reshaped = input_data_as_numpy_array.reshape(1,-1)\n",
    "\n",
    "prediction = model.predict(input_data_reshaped)\n",
    "print(prediction)\n",
    "\n",
    "if (prediction[0]== 0):\n",
    "  print('The Person does not have PCOS')\n",
    "else:\n",
    "  print('The Person has PCOS')"
   ]
  },
  {
   "cell_type": "code",
   "execution_count": 263,
   "id": "4b38eed5",
   "metadata": {},
   "outputs": [],
   "source": [
    "from sklearn import metrics"
   ]
  },
  {
   "cell_type": "code",
   "execution_count": 264,
   "id": "932cc05e",
   "metadata": {},
   "outputs": [],
   "source": [
    "from sklearn.linear_model import LogisticRegression\n",
    "from sklearn.neighbors import KNeighborsClassifier\n",
    "from sklearn import svm\n",
    "from sklearn.naive_bayes import GaussianNB\n",
    "from sklearn.ensemble import RandomForestClassifier"
   ]
  },
  {
   "cell_type": "code",
   "execution_count": 265,
   "id": "e2efb517",
   "metadata": {},
   "outputs": [],
   "source": [
    "#model=SVC(random_state=42, C=1.0, kernel='rbf', degree=3)\n",
    "LR_model = LogisticRegression(solver='lbfgs', max_iter=1000)\n",
    "KN_model = KNeighborsClassifier()\n",
    "SVML_model = svm.SVC(kernel='linear')\n",
    "SVMR_model= svm.SVC(kernel='rbf')\n",
    "GB_model = GaussianNB()\n",
    "RF_model = RandomForestClassifier()"
   ]
  },
  {
   "cell_type": "code",
   "execution_count": 266,
   "id": "50f780b0",
   "metadata": {},
   "outputs": [
    {
     "data": {
      "text/plain": [
       "RandomForestClassifier()"
      ]
     },
     "execution_count": 266,
     "metadata": {},
     "output_type": "execute_result"
    }
   ],
   "source": [
    "LR_model.fit(X_train,Y_train)\n",
    "KN_model.fit(X_train,Y_train)\n",
    "SVML_model.fit(X_train,Y_train)\n",
    "SVMR_model.fit(X_train,Y_train)\n",
    "GB_model.fit(X_train,Y_train)\n",
    "RF_model.fit(X_train,Y_train)"
   ]
  },
  {
   "cell_type": "code",
   "execution_count": 267,
   "id": "e4372f77",
   "metadata": {},
   "outputs": [
    {
     "data": {
      "text/plain": [
       "0.9866071428571429"
      ]
     },
     "execution_count": 267,
     "metadata": {},
     "output_type": "execute_result"
    }
   ],
   "source": [
    "LR_model.score(X_train,Y_train)"
   ]
  },
  {
   "cell_type": "code",
   "execution_count": 268,
   "id": "b3a628a0",
   "metadata": {},
   "outputs": [
    {
     "data": {
      "text/plain": [
       "0.9732142857142857"
      ]
     },
     "execution_count": 268,
     "metadata": {},
     "output_type": "execute_result"
    }
   ],
   "source": [
    "KN_model.score(X_train,Y_train)"
   ]
  },
  {
   "cell_type": "code",
   "execution_count": 269,
   "id": "42a5a59c",
   "metadata": {},
   "outputs": [
    {
     "data": {
      "text/plain": [
       "0.9866071428571429"
      ]
     },
     "execution_count": 269,
     "metadata": {},
     "output_type": "execute_result"
    }
   ],
   "source": [
    "SVML_model.score(X_train,Y_train)"
   ]
  },
  {
   "cell_type": "code",
   "execution_count": 270,
   "id": "dcf469e4",
   "metadata": {},
   "outputs": [
    {
     "data": {
      "text/plain": [
       "0.9151785714285714"
      ]
     },
     "execution_count": 270,
     "metadata": {},
     "output_type": "execute_result"
    }
   ],
   "source": [
    "SVMR_model.score(X_train,Y_train)"
   ]
  },
  {
   "cell_type": "code",
   "execution_count": 271,
   "id": "123ed1e1",
   "metadata": {},
   "outputs": [
    {
     "data": {
      "text/plain": [
       "0.90625"
      ]
     },
     "execution_count": 271,
     "metadata": {},
     "output_type": "execute_result"
    }
   ],
   "source": [
    "GB_model.score(X_train,Y_train)"
   ]
  },
  {
   "cell_type": "code",
   "execution_count": 272,
   "id": "f5a21783",
   "metadata": {},
   "outputs": [
    {
     "data": {
      "text/plain": [
       "1.0"
      ]
     },
     "execution_count": 272,
     "metadata": {},
     "output_type": "execute_result"
    }
   ],
   "source": [
    "RF_model.score(X_train,Y_train)"
   ]
  },
  {
   "cell_type": "code",
   "execution_count": 273,
   "id": "86035fcc",
   "metadata": {},
   "outputs": [],
   "source": [
    "#These are predictions\n",
    "LR_pred = LR_model.predict(X_test)\n",
    "KN_pred = KN_model.predict(X_test)\n",
    "SVML_pred = SVML_model.predict(X_test)\n",
    "SVMR_pred = SVMR_model.predict(X_test)\n",
    "GB_pred = GB_model.predict(X_test)\n",
    "RF_pred = RF_model.predict(X_test)\n",
    "\n"
   ]
  },
  {
   "cell_type": "code",
   "execution_count": 274,
   "id": "a41b4c87",
   "metadata": {},
   "outputs": [
    {
     "name": "stdout",
     "output_type": "stream",
     "text": [
      "[1 1 0 1 1 0 1 0 1 0 0 0 0 1 0 1 1 1 1 1 1 0 0 1 0 0 0 1 1 0 0 1 1 0 1 0 1\n",
      " 0 1 1 0 0 0 0 1 0 0 0 1 0 1 0 1 1 1 1] \n",
      "\n",
      "[1 1 0 1 1 0 1 0 1 0 1 0 0 1 0 1 1 1 1 1 1 0 0 1 0 0 1 1 1 0 0 1 1 0 0 0 1\n",
      " 0 1 1 0 0 0 0 1 0 0 0 1 0 1 0 1 1 1 1] \n",
      "\n",
      "[1 1 0 1 1 0 1 0 1 0 0 0 0 1 0 1 0 1 1 1 1 0 0 1 0 0 1 1 1 0 0 1 1 0 1 0 1\n",
      " 0 1 1 0 0 0 0 1 0 0 0 1 0 1 0 1 1 1 1] \n",
      "\n",
      "[1 1 0 1 1 0 1 1 1 0 1 0 0 1 0 1 1 1 1 1 1 0 0 1 0 0 1 1 1 0 0 1 1 0 1 0 1\n",
      " 0 1 1 0 1 0 0 1 0 1 1 1 0 1 0 1 1 1 1] \n",
      "\n",
      "[1 0 0 1 1 0 1 0 1 0 0 1 0 1 0 1 1 1 1 1 0 0 0 1 0 0 0 1 1 0 0 0 1 1 1 0 1\n",
      " 0 1 1 1 1 0 1 1 1 0 1 1 0 1 0 1 1 1 1] \n",
      "\n",
      "[1 1 0 1 1 0 1 0 1 0 1 0 0 1 0 1 0 1 1 1 1 0 0 1 0 0 1 1 1 0 0 1 1 0 0 0 1\n",
      " 0 1 1 0 1 0 0 1 0 1 0 1 0 1 0 1 1 1 1] \n",
      "\n"
     ]
    }
   ],
   "source": [
    "print(LR_pred, '\\n')\n",
    "print(KN_pred, '\\n')\n",
    "print(SVML_pred, '\\n')\n",
    "print(SVMR_pred, '\\n')\n",
    "print(GB_pred, '\\n')\n",
    "print(RF_pred, '\\n')\n"
   ]
  },
  {
   "cell_type": "code",
   "execution_count": 275,
   "id": "996514bf",
   "metadata": {},
   "outputs": [],
   "source": [
    "from sklearn.metrics import confusion_matrix\n",
    "LR_cm = confusion_matrix(Y_test, LR_pred)\n",
    "KN_cm = confusion_matrix(Y_test, KN_pred)\n",
    "SVML_cm = confusion_matrix(Y_test, SVML_pred)\n",
    "SVMR_cm = confusion_matrix(Y_test, SVMR_pred)\n",
    "GB_cm = confusion_matrix(Y_test, GB_pred)\n",
    "RF_cm = confusion_matrix(Y_test, RF_pred)"
   ]
  },
  {
   "cell_type": "code",
   "execution_count": 276,
   "id": "0463036f",
   "metadata": {},
   "outputs": [
    {
     "data": {
      "image/png": "[encoded data removed]",
      "text/plain": [
       "<Figure size 600x400 with 2 Axes>"
      ]
     },
     "metadata": {
      "needs_background": "light"
     },
     "output_type": "display_data"
    }
   ],
   "source": [
    "from sklearn.metrics import confusion_matrix\n",
    "RF_model= RandomForestClassifier(n_estimators=200, random_state=1)\n",
    "RF_model.fit(X_train,Y_train)\n",
    "RF_pred = RF_model.predict(X_test)\n",
    "\n",
    "plt.figure(dpi = 100)\n",
    "plt.title(\" RF Confusion Matrix\")\n",
    "cf_matrix = confusion_matrix(np.ravel(Y_test), RF_pred)\n",
    "cf_hm = sns.heatmap(cf_matrix, annot=True, cmap = 'rocket_r')"
   ]
  },
  {
   "cell_type": "code",
   "execution_count": 277,
   "id": "d5e9cd11",
   "metadata": {},
   "outputs": [
    {
     "data": {
      "image/png": "[encoded data removed]",
      "text/plain": [
       "<Figure size 600x400 with 2 Axes>"
      ]
     },
     "metadata": {
      "needs_background": "light"
     },
     "output_type": "display_data"
    }
   ],
   "source": [
    "from sklearn.metrics import confusion_matrix\n",
    "SVML_model = svm.SVC(kernel='linear')\n",
    "SVML_model.fit(X_train,Y_train)\n",
    "SVML_pred = SVML_model.predict(X_test)\n",
    "plt.figure(dpi = 100)\n",
    "plt.title(\" SVML Confusion Matrix\")\n",
    "cf_matrix = confusion_matrix(np.ravel(Y_test), SVML_pred)\n",
    "cf_hm = sns.heatmap(cf_matrix, annot=True, cmap = 'rocket_r')"
   ]
  },
  {
   "cell_type": "code",
   "execution_count": 278,
   "id": "25e8c346",
   "metadata": {},
   "outputs": [
    {
     "data": {
      "image/png": "[encoded data removed]",
      "text/plain": [
       "<Figure size 600x400 with 2 Axes>"
      ]
     },
     "metadata": {
      "needs_background": "light"
     },
     "output_type": "display_data"
    }
   ],
   "source": [
    "from sklearn.metrics import confusion_matrix\n",
    "LR_model = LogisticRegression(solver='lbfgs', max_iter=1000)\n",
    "LR_model.fit(X_train,Y_train)\n",
    "LR_pred = LR_model.predict(X_test)\n",
    "\n",
    "plt.figure(dpi = 100)\n",
    "plt.title(\" LR Confusion Matrix\")\n",
    "cf_matrix = confusion_matrix(np.ravel(Y_test), LR_pred)\n",
    "cf_hm = sns.heatmap(cf_matrix, annot=True, cmap = 'rocket_r')"
   ]
  },
  {
   "cell_type": "code",
   "execution_count": 279,
   "id": "1170b6a5",
   "metadata": {},
   "outputs": [
    {
     "data": {
      "image/png": "[encoded data removed]",
      "text/plain": [
       "<Figure size 600x400 with 2 Axes>"
      ]
     },
     "metadata": {
      "needs_background": "light"
     },
     "output_type": "display_data"
    }
   ],
   "source": [
    "from sklearn.metrics import confusion_matrix\n",
    "KN_model = KNeighborsClassifier()\n",
    "KN_model.fit(X_train,Y_train)\n",
    "KN_pred = KN_model.predict(X_test)\n",
    "\n",
    "plt.figure(dpi = 100)\n",
    "plt.title(\" KNN Confusion Matrix\")\n",
    "cf_matrix = confusion_matrix(np.ravel(Y_test), KN_pred)\n",
    "cf_hm = sns.heatmap(cf_matrix, annot=True, cmap = 'rocket_r')"
   ]
  },
  {
   "cell_type": "code",
   "execution_count": 280,
   "id": "dacaab90",
   "metadata": {},
   "outputs": [
    {
     "data": {
      "image/png": "[encoded data removed]",
      "text/plain": [
       "<Figure size 600x400 with 2 Axes>"
      ]
     },
     "metadata": {
      "needs_background": "light"
     },
     "output_type": "display_data"
    }
   ],
   "source": [
    "from sklearn.metrics import confusion_matrix\n",
    "GB_model = GaussianNB()\n",
    "GB_model.fit(X_train,Y_train)\n",
    "GB_pred = GB_model.predict(X_test)\n",
    "\n",
    "plt.figure(dpi = 100)\n",
    "plt.title(\" GNB Confusion Matrix\")\n",
    "cf_matrix = confusion_matrix(np.ravel(Y_test), GB_pred)\n",
    "cf_hm = sns.heatmap(cf_matrix, annot=True, cmap = 'rocket_r')"
   ]
  },
  {
   "cell_type": "code",
   "execution_count": 281,
   "id": "12a14dfd",
   "metadata": {},
   "outputs": [
    {
     "data": {
      "image/png": "[encoded data removed]",
      "text/plain": [
       "<Figure size 600x400 with 2 Axes>"
      ]
     },
     "metadata": {
      "needs_background": "light"
     },
     "output_type": "display_data"
    }
   ],
   "source": [
    "from sklearn.metrics import confusion_matrix\n",
    "SVMR_model = svm.SVC(kernel='rbf')\n",
    "SVMR_model.fit(X_train,Y_train)\n",
    "SVMR_pred = SVMR_model.predict(X_test)\n",
    "\n",
    "plt.figure(dpi = 100)\n",
    "plt.title(\" SVMR Confusion Matrix\")\n",
    "cf_matrix = confusion_matrix(np.ravel(Y_test), SVMR_pred)\n",
    "cf_hm = sns.heatmap(cf_matrix, annot=True, cmap = 'rocket_r')"
   ]
  },
  {
   "cell_type": "code",
   "execution_count": 282,
   "id": "15832419",
   "metadata": {},
   "outputs": [
    {
     "name": "stdout",
     "output_type": "stream",
     "text": [
      "[[22  2]\n",
      " [ 5 27]] \n",
      "\n",
      "[[23  1]\n",
      " [ 3 29]] \n",
      "\n",
      "[[23  1]\n",
      " [ 4 28]] \n",
      "\n",
      "[[20  4]\n",
      " [ 1 31]] \n",
      "\n",
      "[[16  8]\n",
      " [ 7 25]] \n",
      "\n",
      "[[24  0]\n",
      " [ 1 31]] \n",
      "\n"
     ]
    }
   ],
   "source": [
    "print(LR_cm, '\\n')\n",
    "print(KN_cm, '\\n')\n",
    "print(SVML_cm, '\\n')\n",
    "print(SVMR_cm, '\\n')\n",
    "print(GB_cm, '\\n')\n",
    "print(RF_cm, '\\n')\n"
   ]
  },
  {
   "cell_type": "code",
   "execution_count": 283,
   "id": "9e638791",
   "metadata": {},
   "outputs": [
    {
     "data": {
      "image/png": "[encoded data removed]",
      "text/plain": [
       "<Figure size 600x400 with 1 Axes>"
      ]
     },
     "metadata": {
      "needs_background": "light"
     },
     "output_type": "display_data"
    }
   ],
   "source": [
    "import sklearn.metrics as metrics\n",
    "fpr, tpr, threshold = metrics.roc_curve(Y_test, RF_pred)\n",
    "roc_auc = metrics.auc(fpr, tpr)\n",
    "\n",
    "plt.figure(dpi = 100)\n",
    "plt.title('ROC curve for Random Forest Classifier')\n",
    "plt.plot(fpr, tpr, 'b', label = 'AUC = %0.2f' % roc_auc)\n",
    "plt.legend(loc = 'lower right')\n",
    "plt.plot([0, 1], [0, 1],'r--')\n",
    "plt.xlim([0, 1])\n",
    "plt.ylim([0, 1])\n",
    "plt.ylabel('True Positive Rate(sensitivity)')\n",
    "plt.xlabel('False Positive Rate(specificity)')\n",
    "plt.show()"
   ]
  },
  {
   "cell_type": "code",
   "execution_count": 284,
   "id": "c3f8ddb9",
   "metadata": {},
   "outputs": [
    {
     "data": {
      "image/png": "[encoded data removed]",
      "text/plain": [
       "<Figure size 600x400 with 1 Axes>"
      ]
     },
     "metadata": {
      "needs_background": "light"
     },
     "output_type": "display_data"
    }
   ],
   "source": [
    "import sklearn.metrics as metrics\n",
    "\n",
    "fpr, tpr, threshold = metrics.roc_curve(Y_test, SVML_pred)\n",
    "roc_auc = metrics.auc(fpr, tpr)\n",
    "\n",
    "plt.figure(dpi = 100)\n",
    "plt.title('ROC curve for SVML')\n",
    "plt.plot(fpr, tpr, 'b', label = 'AUC = %0.2f' % roc_auc)\n",
    "plt.legend(loc = 'lower right')\n",
    "plt.plot([0, 1], [0, 1],'r--')\n",
    "plt.xlim([0, 1])\n",
    "plt.ylim([0, 1])\n",
    "plt.ylabel('True Positive Rate(sensitivity)')\n",
    "plt.xlabel('False Positive Rate(specificity)')\n",
    "plt.show()"
   ]
  },
  {
   "cell_type": "code",
   "execution_count": 285,
   "id": "0f93d3a6",
   "metadata": {},
   "outputs": [
    {
     "data": {
      "image/png": "[encoded data removed]",
      "text/plain": [
       "<Figure size 600x400 with 1 Axes>"
      ]
     },
     "metadata": {
      "needs_background": "light"
     },
     "output_type": "display_data"
    }
   ],
   "source": [
    "import sklearn.metrics as metrics\n",
    "\n",
    "fpr, tpr, threshold = metrics.roc_curve(Y_test, LR_pred)\n",
    "roc_auc = metrics.auc(fpr, tpr)\n",
    "\n",
    "plt.figure(dpi = 100)\n",
    "plt.title('ROC curve for Logistic Regression')\n",
    "plt.plot(fpr, tpr, 'b', label = 'AUC = %0.2f' % roc_auc)\n",
    "plt.legend(loc = 'lower right')\n",
    "plt.plot([0, 1], [0, 1],'r--')\n",
    "plt.xlim([0, 1])\n",
    "plt.ylim([0, 1])\n",
    "plt.ylabel('True Positive Rate(sensitivity)')\n",
    "plt.xlabel('False Positive Rate(specificity)')\n",
    "plt.show()"
   ]
  },
  {
   "cell_type": "code",
   "execution_count": 286,
   "id": "b6d8da39",
   "metadata": {},
   "outputs": [
    {
     "data": {
      "image/png": "[encoded data removed]",
      "text/plain": [
       "<Figure size 600x400 with 1 Axes>"
      ]
     },
     "metadata": {
      "needs_background": "light"
     },
     "output_type": "display_data"
    }
   ],
   "source": [
    "import sklearn.metrics as metrics\n",
    "\n",
    "fpr, tpr, threshold = metrics.roc_curve(Y_test, KN_pred)\n",
    "roc_auc = metrics.auc(fpr, tpr)\n",
    "\n",
    "plt.figure(dpi = 100)\n",
    "plt.title('ROC curve for KNN')\n",
    "plt.plot(fpr, tpr, 'b', label = 'AUC = %0.2f' % roc_auc)\n",
    "plt.legend(loc = 'lower right')\n",
    "plt.plot([0, 1], [0, 1],'r--')\n",
    "plt.xlim([0, 1])\n",
    "plt.ylim([0, 1])\n",
    "plt.ylabel('True Positive Rate(sensitivity)')\n",
    "plt.xlabel('False Positive Rate(specificity)')\n",
    "plt.show()"
   ]
  },
  {
   "cell_type": "code",
   "execution_count": 287,
   "id": "912ba9d5",
   "metadata": {},
   "outputs": [
    {
     "data": {
      "image/png": "[encoded data removed]",
      "text/plain": [
       "<Figure size 600x400 with 1 Axes>"
      ]
     },
     "metadata": {
      "needs_background": "light"
     },
     "output_type": "display_data"
    }
   ],
   "source": [
    "import sklearn.metrics as metrics\n",
    "\n",
    "fpr, tpr, threshold = metrics.roc_curve(Y_test, GB_pred)\n",
    "roc_auc = metrics.auc(fpr, tpr)\n",
    "\n",
    "plt.figure(dpi = 100)\n",
    "plt.title('ROC curve for Gaussian Naive Bayes')\n",
    "plt.plot(fpr, tpr, 'b', label = 'AUC = %0.2f' % roc_auc)\n",
    "plt.legend(loc = 'lower right')\n",
    "plt.plot([0, 1], [0, 1],'r--')\n",
    "plt.xlim([0, 1])\n",
    "plt.ylim([0, 1])\n",
    "plt.ylabel('True Positive Rate(sensitivity)')\n",
    "plt.xlabel('False Positive Rate(specificity)')\n",
    "plt.show()"
   ]
  },
  {
   "cell_type": "code",
   "execution_count": 288,
   "id": "a754d5fe",
   "metadata": {},
   "outputs": [
    {
     "data": {
      "image/png": "[encoded data removed]",
      "text/plain": [
       "<Figure size 600x400 with 1 Axes>"
      ]
     },
     "metadata": {
      "needs_background": "light"
     },
     "output_type": "display_data"
    }
   ],
   "source": [
    "import sklearn.metrics as metrics\n",
    "\n",
    "fpr, tpr, threshold = metrics.roc_curve(Y_test, SVMR_pred)\n",
    "roc_auc = metrics.auc(fpr, tpr)\n",
    "\n",
    "plt.figure(dpi = 100)\n",
    "plt.title('ROC curve for SVMR')\n",
    "plt.plot(fpr, tpr, 'b', label = 'AUC = %0.2f' % roc_auc)\n",
    "plt.legend(loc = 'lower right')\n",
    "plt.plot([0, 1], [0, 1],'r--')\n",
    "plt.xlim([0, 1])\n",
    "plt.ylim([0, 1])\n",
    "plt.ylabel('True Positive Rate(sensitivity)')\n",
    "plt.xlabel('False Positive Rate(specificity)')\n",
    "plt.show()"
   ]
  }
 ],
 "metadata": {
  "kernelspec": {
   "display_name": "Python 3",
   "language": "python",
   "name": "python3"
  },
  "language_info": {
   "codemirror_mode": {
    "name": "ipython",
    "version": 3
   },
   "file_extension": ".py",
   "mimetype": "text/x-python",
   "name": "python",
   "nbconvert_exporter": "python",
   "pygments_lexer": "ipython3",
   "version": "3.8.8"
  }
 },
 "nbformat": 4,
 "nbformat_minor": 5
}
